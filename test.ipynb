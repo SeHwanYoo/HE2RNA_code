{
 "cells": [
  {
   "cell_type": "code",
   "execution_count": 2,
   "metadata": {},
   "outputs": [],
   "source": [
    "import os \n",
    "import pandas as pd\n",
    "from glob import glob\n",
    "from tqdm import tqdm\n",
    "import json"
   ]
  },
  {
   "cell_type": "code",
   "execution_count": 10,
   "metadata": {},
   "outputs": [],
   "source": [
    "path = '/Users/sehwan/Desktop/datasets/COAD/'\n",
    "\n",
    "\n",
    "counts_file = glob(os.path.join(os.path.join(path, \"*/*counts.tsv\")))\n",
    "# metadata_file = os.path.join(output_dir, \"metadata.json\")\n",
    "with open (os.path.join(path, 'metadata.cart.2023-07-08.json'), 'r') as f:\n",
    "    metadata_file = json.load(f)\n",
    "\n",
    "# counts_df = pd.read_csv(counts_file, sep=\"\\t\", index_col=0)\n",
    "# metadata_df = pd.read_csv(metadata_file, sep=\"\\t\", index_col=0)"
   ]
  },
  {
   "cell_type": "code",
   "execution_count": 14,
   "metadata": {},
   "outputs": [
    {
     "data": {
      "text/plain": [
       "['/Users/sehwan/Desktop/datasets/COAD/b315758e-62d1-408b-9510-fc0a4294f7ec/7f9dadec-d447-41be-a192-637ce36467da.rna_seq.augmented_star_gene_counts.tsv']"
      ]
     },
     "execution_count": 14,
     "metadata": {},
     "output_type": "execute_result"
    }
   ],
   "source": [
    "counts_file[:1]"
   ]
  },
  {
   "cell_type": "code",
   "execution_count": 23,
   "metadata": {},
   "outputs": [
    {
     "data": {
      "text/plain": [
       "{'data_format': 'SVS',\n",
       " 'access': 'open',\n",
       " 'associated_entities': [{'entity_submitter_id': 'TCGA-A6-4107-11A-01-TS1',\n",
       "   'entity_type': 'slide',\n",
       "   'case_id': 'b079a153-62f9-4026-a2f8-a1390168bbb9',\n",
       "   'entity_id': '8425e9ee-5910-48cd-aeb4-430e0401ce73'}],\n",
       " 'file_name': 'TCGA-A6-4107-11A-01-TS1.8425e9ee-5910-48cd-aeb4-430e0401ce73.svs',\n",
       " 'md5sum': '67bc455b8c8a23c5cf349e79cddb1ca8',\n",
       " 'file_id': 'c66b87bb-49d8-40dc-88ca-a24347af69f9',\n",
       " 'data_type': 'Slide Image',\n",
       " 'submitter_id': 'TCGA-A6-4107-11A-01-TS1_slide_image',\n",
       " 'data_category': 'Biospecimen',\n",
       " 'state': 'released',\n",
       " 'experimental_strategy': 'Tissue Slide',\n",
       " 'file_size': 231696199}"
      ]
     },
     "execution_count": 23,
     "metadata": {},
     "output_type": "execute_result"
    }
   ],
   "source": [
    "metadata_file[0]"
   ]
  },
  {
   "cell_type": "code",
   "execution_count": 27,
   "metadata": {},
   "outputs": [],
   "source": [
    "with open('test.txt', 'w') as f:\n",
    "    txt = 'id\\t filename\\t md5\\t '\n",
    "    f.write(txt)"
   ]
  },
  {
   "cell_type": "code",
   "execution_count": 29,
   "metadata": {},
   "outputs": [],
   "source": [
    "\n",
    "with open('test.txt', 'w') as f:\n",
    "    txt = 'id\\t filename\\t md5\\t size\\t state\\n'\n",
    "    f.write(txt)\n",
    "    \n",
    "    for ii in metadata_file:\n",
    "        if ii['data_format'] == 'SVS':\n",
    "            filename = ii['file_name']\n",
    "            md5 = ii['md5sum']\n",
    "            fileid = ii['file_id']\n",
    "            size = ii['file_size']\n",
    "            state = ii['state']\n",
    "            \n",
    "            txt = fileid + '\\t' + filename + '\\t' + md5 + '\\t' + str(size) + '\\t' + state + '\\n'\n",
    "            f.write(txt)"
   ]
  },
  {
   "cell_type": "code",
   "execution_count": 12,
   "metadata": {},
   "outputs": [
    {
     "ename": "AttributeError",
     "evalue": "'list' object has no attribute 'split'",
     "output_type": "error",
     "traceback": [
      "\u001b[0;31m---------------------------------------------------------------------------\u001b[0m",
      "\u001b[0;31mAttributeError\u001b[0m                            Traceback (most recent call last)",
      "\u001b[1;32m/Users/sehwan/Desktop/workspace/HE2RNA_code/test.ipynb Cell 3\u001b[0m in \u001b[0;36m1\n\u001b[0;32m----> <a href='vscode-notebook-cell:/Users/sehwan/Desktop/workspace/HE2RNA_code/test.ipynb#X21sZmlsZQ%3D%3D?line=0'>1</a>\u001b[0m \u001b[39mif\u001b[39;00m \u001b[39m'\u001b[39m\u001b[39ma97b1d49-cf8e-4601-9b15-06b6b9380857\u001b[39m\u001b[39m'\u001b[39m \u001b[39min\u001b[39;00m counts_file\u001b[39m.\u001b[39msplit(\u001b[39m'\u001b[39m\u001b[39m/\u001b[39m\u001b[39m'\u001b[39m)[\u001b[39m-\u001b[39m\u001b[39m2\u001b[39m]:\n\u001b[1;32m      <a href='vscode-notebook-cell:/Users/sehwan/Desktop/workspace/HE2RNA_code/test.ipynb#X21sZmlsZQ%3D%3D?line=1'>2</a>\u001b[0m     \u001b[39mprint\u001b[39m(\u001b[39m1\u001b[39m)\n",
      "\u001b[0;31mAttributeError\u001b[0m: 'list' object has no attribute 'split'"
     ]
    }
   ],
   "source": [
    "if 'a97b1d49-cf8e-4601-9b15-06b6b9380857' in counts_file.split('/')[-2]:\n",
    "    print(1)"
   ]
  },
  {
   "cell_type": "code",
   "execution_count": null,
   "metadata": {},
   "outputs": [],
   "source": [
    "df = []\n",
    "path = '/Users/sehwan/Desktop/datasets/txt_fils/'\n",
    "# path = Path(PATH_TO_TRANSCRIPTOME)\n",
    "for f in glob(os.path.join(path, '*/*.txt')):\n",
    "    df_ = pd.read_csv(f, sep='\\t', header=None, index_col=0)\n",
    "    \n",
    "    print(str(f.split('/')[-2]))"
   ]
  },
  {
   "cell_type": "code",
   "execution_count": 43,
   "metadata": {},
   "outputs": [
    {
     "data": {
      "text/plain": [
       "['/Users/sehwan/Desktop/datasets/txt_fils/b315758e-62d1-408b-9510-fc0a4294f7ec/annotations.txt',\n",
       " '/Users/sehwan/Desktop/datasets/txt_fils/73ba2db0-55f1-41ef-a9c3-e480caab4edd/annotations.txt',\n",
       " '/Users/sehwan/Desktop/datasets/txt_fils/526975f3-cec3-42d1-aa19-8df2d7f9fb5d/annotations.txt']"
      ]
     },
     "execution_count": 43,
     "metadata": {},
     "output_type": "execute_result"
    }
   ],
   "source": [
    "txt_files = glob('/Users/sehwan/Desktop/datasets/txt_fils/*/*.txt')\n",
    "txt_files[:3]"
   ]
  },
  {
   "cell_type": "code",
   "execution_count": 2,
   "metadata": {},
   "outputs": [
    {
     "data": {
      "text/plain": [
       "['/Users/sehwan/Desktop/datasets/txt_fils/b315758e-62d1-408b-9510-fc0a4294f7ec/7f9dadec-d447-41be-a192-637ce36467da.rna_seq.augmented_star_gene_counts.tsv',\n",
       " '/Users/sehwan/Desktop/datasets/txt_fils/73ba2db0-55f1-41ef-a9c3-e480caab4edd/b83a1cf6-50a6-44fa-834d-8b3df88149fa.rna_seq.augmented_star_gene_counts.tsv',\n",
       " '/Users/sehwan/Desktop/datasets/txt_fils/526975f3-cec3-42d1-aa19-8df2d7f9fb5d/fcb06f2b-bc4d-406d-82c3-76802c77a75b.rna_seq.augmented_star_gene_counts.tsv']"
      ]
     },
     "execution_count": 2,
     "metadata": {},
     "output_type": "execute_result"
    }
   ],
   "source": [
    "# df = pd.read_csv('/Users/sehwan/Desktop/datasets/GSE143685_Counts_bulkRNA_final.csv', index_col=0)\n",
    "text_files = glob('/Users/sehwan/Desktop/datasets/txt_fils/*/*.tsv')\n",
    "text_files[:3]"
   ]
  },
  {
   "cell_type": "code",
   "execution_count": 6,
   "metadata": {},
   "outputs": [
    {
     "data": {
      "text/html": [
       "<div>\n",
       "<style scoped>\n",
       "    .dataframe tbody tr th:only-of-type {\n",
       "        vertical-align: middle;\n",
       "    }\n",
       "\n",
       "    .dataframe tbody tr th {\n",
       "        vertical-align: top;\n",
       "    }\n",
       "\n",
       "    .dataframe thead th {\n",
       "        text-align: right;\n",
       "    }\n",
       "</style>\n",
       "<table border=\"1\" class=\"dataframe\">\n",
       "  <thead>\n",
       "    <tr style=\"text-align: right;\">\n",
       "      <th></th>\n",
       "      <th>File.ID</th>\n",
       "      <th>File.Name</th>\n",
       "      <th>Data.Category</th>\n",
       "      <th>Data.Type</th>\n",
       "      <th>Project.ID</th>\n",
       "      <th>Case.ID</th>\n",
       "      <th>Sample.ID</th>\n",
       "      <th>Sample.Type</th>\n",
       "    </tr>\n",
       "  </thead>\n",
       "  <tbody>\n",
       "    <tr>\n",
       "      <th>1</th>\n",
       "      <td>b8de501e-1d14-42ec-afc3-227e78a4f0ad</td>\n",
       "      <td>bf7d8fed-3bac-4a79-8c27-12785590bea5.FPKM-UQ.t...</td>\n",
       "      <td>Transcriptome Profiling</td>\n",
       "      <td>Gene Expression Quantification</td>\n",
       "      <td>TCGA-THCA</td>\n",
       "      <td>TCGA-DJ-A2Q0</td>\n",
       "      <td>TCGA-DJ-A2Q0-01A</td>\n",
       "      <td>Primary Tumor</td>\n",
       "    </tr>\n",
       "    <tr>\n",
       "      <th>2</th>\n",
       "      <td>d5c6c91e-b5c1-4b10-9d96-bde6a0928316</td>\n",
       "      <td>7365a5d1-be08-411c-b24a-59769ff029a5.FPKM-UQ.t...</td>\n",
       "      <td>Transcriptome Profiling</td>\n",
       "      <td>Gene Expression Quantification</td>\n",
       "      <td>TCGA-THCA</td>\n",
       "      <td>TCGA-IM-A41Z</td>\n",
       "      <td>TCGA-IM-A41Z-01A</td>\n",
       "      <td>Primary Tumor</td>\n",
       "    </tr>\n",
       "    <tr>\n",
       "      <th>3</th>\n",
       "      <td>f2218e01-f767-4510-a27d-0f3e5c3db06d</td>\n",
       "      <td>20331bec-d188-428e-9a99-b74bfdd4542e.FPKM-UQ.t...</td>\n",
       "      <td>Transcriptome Profiling</td>\n",
       "      <td>Gene Expression Quantification</td>\n",
       "      <td>TCGA-THCA</td>\n",
       "      <td>TCGA-ET-A3DV</td>\n",
       "      <td>TCGA-ET-A3DV-01A</td>\n",
       "      <td>Primary Tumor</td>\n",
       "    </tr>\n",
       "  </tbody>\n",
       "</table>\n",
       "</div>"
      ],
      "text/plain": [
       "                                File.ID   \n",
       "1  b8de501e-1d14-42ec-afc3-227e78a4f0ad  \\\n",
       "2  d5c6c91e-b5c1-4b10-9d96-bde6a0928316   \n",
       "3  f2218e01-f767-4510-a27d-0f3e5c3db06d   \n",
       "\n",
       "                                           File.Name            Data.Category   \n",
       "1  bf7d8fed-3bac-4a79-8c27-12785590bea5.FPKM-UQ.t...  Transcriptome Profiling  \\\n",
       "2  7365a5d1-be08-411c-b24a-59769ff029a5.FPKM-UQ.t...  Transcriptome Profiling   \n",
       "3  20331bec-d188-428e-9a99-b74bfdd4542e.FPKM-UQ.t...  Transcriptome Profiling   \n",
       "\n",
       "                        Data.Type Project.ID       Case.ID         Sample.ID   \n",
       "1  Gene Expression Quantification  TCGA-THCA  TCGA-DJ-A2Q0  TCGA-DJ-A2Q0-01A  \\\n",
       "2  Gene Expression Quantification  TCGA-THCA  TCGA-IM-A41Z  TCGA-IM-A41Z-01A   \n",
       "3  Gene Expression Quantification  TCGA-THCA  TCGA-ET-A3DV  TCGA-ET-A3DV-01A   \n",
       "\n",
       "     Sample.Type  \n",
       "1  Primary Tumor  \n",
       "2  Primary Tumor  \n",
       "3  Primary Tumor  "
      ]
     },
     "execution_count": 6,
     "metadata": {},
     "output_type": "execute_result"
    }
   ],
   "source": [
    "sample_desc = pd.read_csv('./metadata/samples_description.csv', sep='\\t')\n",
    "# sample_desc = sample_desc[sample_desc['Sample.Type'] == 'Primary Tumor']\n",
    "sample_desc.iloc[:3, :]"
   ]
  },
  {
   "cell_type": "code",
   "execution_count": 38,
   "metadata": {},
   "outputs": [],
   "source": [
    "# sample_desc[sample_desc['Project.ID'] == 'TCGA-COAD']\n",
    "sample_desc['Name'] = sample_desc['File.Name'].apply(lambda x : x.split('.')[0])"
   ]
  },
  {
   "cell_type": "code",
   "execution_count": 41,
   "metadata": {},
   "outputs": [
    {
     "data": {
      "text/plain": [
       "(array(['b8de501e-1d14-42ec-afc3-227e78a4f0ad',\n",
       "        'd5c6c91e-b5c1-4b10-9d96-bde6a0928316',\n",
       "        'f2218e01-f767-4510-a27d-0f3e5c3db06d', ...,\n",
       "        'b81deb1f-13d9-4f9c-aa54-f51cb992fede',\n",
       "        'b16f4369-d313-490d-838c-a28cd2216158',\n",
       "        'c83df78c-5765-4d1e-b5e7-3a0df4d1ebc8'], dtype=object),\n",
       " array(['bf7d8fed-3bac-4a79-8c27-12785590bea5',\n",
       "        '7365a5d1-be08-411c-b24a-59769ff029a5',\n",
       "        '20331bec-d188-428e-9a99-b74bfdd4542e', ...,\n",
       "        'c854edbb-3114-45d6-9ec3-2a9323f78226',\n",
       "        '509b4d15-5a91-4526-b0f1-49f837a2ee97',\n",
       "        'ff4c5ac9-fd9a-40a9-9d70-1c890ca04332'], dtype=object))"
      ]
     },
     "execution_count": 41,
     "metadata": {},
     "output_type": "execute_result"
    }
   ],
   "source": [
    "# sample_desc['File.ID'] = sample_desc['File.ID'].astype(str)\n",
    "# sample_desc['File.ID'].astype(str)\n",
    "# sample_desc = sample_desc.astype({'File.ID' : 'str'})\n",
    "# sample_desc.astype({'File.ID' : 'str'}, replace=True)\n",
    "# sample_desc['File.ID'] = sample_desc['File.ID'].astype(str)\n",
    "# sample_desc = sample_desc.astype(str)\n",
    "# sample_desc['ID'] = sample_desc['File.ID'].apply(lambda x : str(x))\n",
    "# sample_desc.info()\n",
    "file_id = sample_desc['File.ID'].values\n",
    "file_name = sample_desc['Name'].values\n",
    "# file_id.astype(str)\n",
    "file_id, file_name"
   ]
  },
  {
   "cell_type": "code",
   "execution_count": 42,
   "metadata": {},
   "outputs": [],
   "source": [
    "df = []\n",
    "# path = Path(PATH_TO_TRANSCRIPTOME)\n",
    "for f in text_files:\n",
    "    id = f.split('/')[-2]\n",
    "    # print(id)\n",
    "    # print(type(id))\n",
    "    \n",
    "    # if len(sample_desc[str(sample_desc['File.ID']) == 'b8de501e-1d14-42ec-afc3-227e78a4f0ad']) > 0:\n",
    "    #     print('---->', id)\n",
    "    if id in file_id:\n",
    "        print('---->', id)\n",
    "        \n",
    "    if id in file_name:\n",
    "        print('---->', id)\n",
    "    \n",
    "#     df_['sample_id'] = id\n",
    "#     df.append(df_)\n",
    "    \n",
    "# df = pd.concat(df)\n",
    "# df.iloc[:3, :]"
   ]
  },
  {
   "cell_type": "code",
   "execution_count": 34,
   "metadata": {},
   "outputs": [
    {
     "name": "stdout",
     "output_type": "stream",
     "text": [
      "<class 'pandas.core.frame.DataFrame'>\n",
      "Index: 31664520 entries, 4 to 60663\n",
      "Data columns (total 10 columns):\n",
      " #   Column              Dtype  \n",
      "---  ------              -----  \n",
      " 0   gene_id             object \n",
      " 1   gene_name           object \n",
      " 2   gene_type           object \n",
      " 3   unstranded          int64  \n",
      " 4   stranded_first      int64  \n",
      " 5   stranded_second     int64  \n",
      " 6   tpm_unstranded      float64\n",
      " 7   fpkm_unstranded     float64\n",
      " 8   fpkm_uq_unstranded  float64\n",
      " 9   sample_id           object \n",
      "dtypes: float64(3), int64(3), object(4)\n",
      "memory usage: 2.6+ GB\n",
      "<class 'pandas.core.frame.DataFrame'>\n",
      "Index: 10025 entries, 1 to 11569\n",
      "Data columns (total 8 columns):\n",
      " #   Column         Non-Null Count  Dtype \n",
      "---  ------         --------------  ----- \n",
      " 0   File.ID        10025 non-null  object\n",
      " 1   File.Name      10025 non-null  object\n",
      " 2   Data.Category  10025 non-null  object\n",
      " 3   Data.Type      10025 non-null  object\n",
      " 4   Project.ID     10025 non-null  object\n",
      " 5   Case.ID        10025 non-null  object\n",
      " 6   Sample.ID      10025 non-null  object\n",
      " 7   Sample.Type    10025 non-null  object\n",
      "dtypes: object(8)\n",
      "memory usage: 704.9+ KB\n"
     ]
    },
    {
     "data": {
      "text/plain": [
       "(None, None)"
      ]
     },
     "execution_count": 34,
     "metadata": {},
     "output_type": "execute_result"
    }
   ],
   "source": [
    "df.info(), sample_desc.info()"
   ]
  },
  {
   "cell_type": "code",
   "execution_count": 32,
   "metadata": {},
   "outputs": [
    {
     "data": {
      "text/html": [
       "<div>\n",
       "<style scoped>\n",
       "    .dataframe tbody tr th:only-of-type {\n",
       "        vertical-align: middle;\n",
       "    }\n",
       "\n",
       "    .dataframe tbody tr th {\n",
       "        vertical-align: top;\n",
       "    }\n",
       "\n",
       "    .dataframe thead th {\n",
       "        text-align: right;\n",
       "    }\n",
       "</style>\n",
       "<table border=\"1\" class=\"dataframe\">\n",
       "  <thead>\n",
       "    <tr style=\"text-align: right;\">\n",
       "      <th></th>\n",
       "      <th>gene_id</th>\n",
       "      <th>gene_name</th>\n",
       "      <th>gene_type</th>\n",
       "      <th>unstranded</th>\n",
       "      <th>stranded_first</th>\n",
       "      <th>stranded_second</th>\n",
       "      <th>tpm_unstranded</th>\n",
       "      <th>fpkm_unstranded</th>\n",
       "      <th>fpkm_uq_unstranded</th>\n",
       "      <th>sample_id</th>\n",
       "      <th>File.ID</th>\n",
       "      <th>File.Name</th>\n",
       "      <th>Data.Category</th>\n",
       "      <th>Data.Type</th>\n",
       "      <th>Project.ID</th>\n",
       "      <th>Case.ID</th>\n",
       "      <th>Sample.ID</th>\n",
       "      <th>Sample.Type</th>\n",
       "    </tr>\n",
       "  </thead>\n",
       "  <tbody>\n",
       "  </tbody>\n",
       "</table>\n",
       "</div>"
      ],
      "text/plain": [
       "Empty DataFrame\n",
       "Columns: [gene_id, gene_name, gene_type, unstranded, stranded_first, stranded_second, tpm_unstranded, fpkm_unstranded, fpkm_uq_unstranded, sample_id, File.ID, File.Name, Data.Category, Data.Type, Project.ID, Case.ID, Sample.ID, Sample.Type]\n",
       "Index: []"
      ]
     },
     "execution_count": 32,
     "metadata": {},
     "output_type": "execute_result"
    }
   ],
   "source": [
    "test_df = df.merge(sample_desc, left_on='sample_id', right_on='File.ID')\n",
    "test_df"
   ]
  },
  {
   "cell_type": "code",
   "execution_count": null,
   "metadata": {},
   "outputs": [],
   "source": []
  },
  {
   "cell_type": "code",
   "execution_count": null,
   "metadata": {},
   "outputs": [],
   "source": []
  },
  {
   "cell_type": "code",
   "execution_count": null,
   "metadata": {},
   "outputs": [],
   "source": []
  },
  {
   "cell_type": "code",
   "execution_count": null,
   "metadata": {},
   "outputs": [],
   "source": []
  }
 ],
 "metadata": {
  "kernelspec": {
   "display_name": "base",
   "language": "python",
   "name": "python3"
  },
  "language_info": {
   "codemirror_mode": {
    "name": "ipython",
    "version": 3
   },
   "file_extension": ".py",
   "mimetype": "text/x-python",
   "name": "python",
   "nbconvert_exporter": "python",
   "pygments_lexer": "ipython3",
   "version": "3.9.12"
  },
  "orig_nbformat": 4
 },
 "nbformat": 4,
 "nbformat_minor": 2
}
